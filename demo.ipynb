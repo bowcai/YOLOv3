{
  "cells": [
    {
      "cell_type": "markdown",
      "metadata": {
        "id": "view-in-github",
        "colab_type": "text"
      },
      "source": [
        "<a href=\"https://colab.research.google.com/github/bowcai/YOLOv3/blob/main/demo.ipynb\" target=\"_parent\"><img src=\"https://colab.research.google.com/assets/colab-badge.svg\" alt=\"Open In Colab\"/></a>"
      ]
    },
    {
      "cell_type": "markdown",
      "source": [
        "Run the following block if in Google Colab."
      ],
      "metadata": {
        "id": "FWBt9sDxEWnE"
      },
      "id": "FWBt9sDxEWnE"
    },
    {
      "cell_type": "code",
      "execution_count": 1,
      "id": "c885a764-1968-4cc9-8b3d-c8447a579a61",
      "metadata": {
        "id": "c885a764-1968-4cc9-8b3d-c8447a579a61",
        "colab": {
          "base_uri": "https://localhost:8080/"
        },
        "outputId": "6dee038a-b619-4ff1-d446-12001609bb9d"
      },
      "outputs": [
        {
          "output_type": "stream",
          "name": "stdout",
          "text": [
            "Cloning into 'YOLOv3'...\n"
          ]
        }
      ],
      "source": [
        "import os\n",
        "from subprocess import getoutput\n",
        "clone_output = getoutput(\"git clone https://github.com/bowcai/YOLOv3.git\")\n",
        "print(clone_output)\n",
        "os.chdir('YOLOv3')"
      ]
    },
    {
      "cell_type": "code",
      "source": [
        "import os\n",
        "from yolov3.load_data import create_training_instances, BatchGenerator\n",
        "from yolov3.load_weight import load_keras_model, save_keras_model, load_pretrained_weight\n",
        "from yolov3.model import create_yolov3_model\n",
        "from yolov3.train import fit_model\n",
        "from yolov3.evaluate import evaluate"
      ],
      "metadata": {
        "id": "hYkQ7eOBFibx"
      },
      "id": "hYkQ7eOBFibx",
      "execution_count": 2,
      "outputs": []
    },
    {
      "cell_type": "code",
      "source": [
        "\n",
        "# The path of training and validation set.\n",
        "train_img_folder = ''\n",
        "train_annot_folder = ''\n",
        "train_cache_dir = ''\n",
        "valid_img_folder = None\n",
        "valid_annot_folder = None\n",
        "valid_cache_dir = None\n",
        "\n",
        "# The labels of object classes.\n",
        "labels = []\n",
        "\n",
        "# Batch size.\n",
        "batch_size = 16\n",
        "\n",
        "# Warmup batches.\n",
        "warmup_batches = 3\n",
        "\n",
        "# If the IoU of predicted bounding box with any ground truth box is higher than the threshold,\n",
        "# ignore the loss of the predicted box.\n",
        "ignore_thresh = 0.5\n",
        "\n",
        "grid_scales = [1, 1, 1]\n",
        "obj_scale = 5\n",
        "noobj_scale = 1\n",
        "xywh_scale = 1\n",
        "class_scale = 1\n",
        "\n",
        "# Minimum and maximum input size.\n",
        "min_input_size = 288\n",
        "max_input_size = 448\n",
        "\n",
        "# The pre-defined anchor sizes.\n",
        "anchors = [55, 69, 75, 234, 133, 240, 136, 129, 142, 363, 203, 290, 228, 184, 285, 359, 341, 260]\n",
        "\n",
        "# Ratio between network input's size and network output's size, 32 for YOLOv3.\n",
        "downsample = 32\n",
        "\n",
        "# The path of pre-trained YOLOv3 weights.\n",
        "pretrained_weight_path = './weights/yolov3.weights'\n",
        "\n",
        "# The path of trained Keras model.\n",
        "keras_model_path = './weights/trained_model.h5'\n"
      ],
      "metadata": {
        "id": "aAmCh0TkFoPV"
      },
      "id": "aAmCh0TkFoPV",
      "execution_count": 4,
      "outputs": []
    },
    {
      "cell_type": "code",
      "source": [],
      "metadata": {
        "id": "GzCMOdVwKih1"
      },
      "id": "GzCMOdVwKih1",
      "execution_count": null,
      "outputs": []
    }
  ],
  "metadata": {
    "kernelspec": {
      "display_name": "Python 3 (ipykernel)",
      "language": "python",
      "name": "python3"
    },
    "language_info": {
      "codemirror_mode": {
        "name": "ipython",
        "version": 3
      },
      "file_extension": ".py",
      "mimetype": "text/x-python",
      "name": "python",
      "nbconvert_exporter": "python",
      "pygments_lexer": "ipython3",
      "version": "3.9.16"
    },
    "colab": {
      "provenance": [],
      "include_colab_link": true
    }
  },
  "nbformat": 4,
  "nbformat_minor": 5
}