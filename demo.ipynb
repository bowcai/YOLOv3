{
  "cells": [
    {
      "cell_type": "markdown",
      "metadata": {
        "id": "view-in-github",
        "colab_type": "text"
      },
      "source": [
        "<a href=\"https://colab.research.google.com/github/bowcai/YOLOv3/blob/main/demo.ipynb\" target=\"_parent\"><img src=\"https://colab.research.google.com/assets/colab-badge.svg\" alt=\"Open In Colab\"/></a>"
      ]
    },
    {
      "cell_type": "markdown",
      "source": [
        "Run the following block if in Google Colab."
      ],
      "metadata": {
        "id": "FWBt9sDxEWnE"
      },
      "id": "FWBt9sDxEWnE"
    },
    {
      "cell_type": "code",
      "execution_count": 1,
      "id": "c885a764-1968-4cc9-8b3d-c8447a579a61",
      "metadata": {
        "id": "c885a764-1968-4cc9-8b3d-c8447a579a61",
        "colab": {
          "base_uri": "https://localhost:8080/"
        },
        "outputId": "60c67e7e-2b50-4c94-924b-3f95e9bf8e66"
      },
      "outputs": [
        {
          "output_type": "stream",
          "name": "stdout",
          "text": [
            "Cloning into 'YOLOv3'...\n"
          ]
        }
      ],
      "source": [
        "import os\n",
        "from subprocess import getoutput\n",
        "clone_output = getoutput(\"git clone https://github.com/bowcai/YOLOv3.git\")\n",
        "print(clone_output)\n",
        "os.chdir('YOLOv3')"
      ]
    },
    {
      "cell_type": "code",
      "source": [
        "from google.colab import drive\n",
        "drive.mount('/content/drive')"
      ],
      "metadata": {
        "id": "hFTeSQBKRq0-",
        "colab": {
          "base_uri": "https://localhost:8080/"
        },
        "outputId": "b74f185d-f7dc-4fe6-9b2b-684671a8ac0e"
      },
      "id": "hFTeSQBKRq0-",
      "execution_count": 2,
      "outputs": [
        {
          "output_type": "stream",
          "name": "stdout",
          "text": [
            "Mounted at /content/drive\n"
          ]
        }
      ]
    },
    {
      "cell_type": "code",
      "source": [
        "import os\n",
        "from yolov3.load_data import create_training_instances, BatchGenerator\n",
        "from yolov3.load_weight import load_keras_model, save_keras_model, load_pretrained_weight\n",
        "from yolov3.model import create_yolov3_model\n",
        "from yolov3.train import fit_model\n",
        "from yolov3.evaluate import evaluate"
      ],
      "metadata": {
        "id": "hYkQ7eOBFibx"
      },
      "id": "hYkQ7eOBFibx",
      "execution_count": 3,
      "outputs": []
    },
    {
      "cell_type": "code",
      "source": [
        "# The path of training and validation set.\n",
        "proj_folder = '/content/drive/My Drive/Colab Notebooks/YOLOv3-proj/'\n",
        "train_annot_folder = proj_folder + 'kangaroo/annots/'\n",
        "train_img_folder = proj_folder + 'kangaroo/images/'\n",
        "train_cache_dir = proj_folder + 'kangaroo/cache.pkl'\n",
        "valid_annot_folder = None\n",
        "valid_img_folder = None\n",
        "valid_cache_dir = None\n",
        "\n",
        "# The labels of object classes.\n",
        "labels = ['kangaroo']\n",
        "\n",
        "# Batch size.\n",
        "batch_size = 16\n",
        "\n",
        "# Warmup batches.\n",
        "warmup_batches = 3\n",
        "\n",
        "# If the IoU of predicted bounding box with any ground truth box is higher than the threshold,\n",
        "# ignore the loss of the predicted box.\n",
        "ignore_thresh = 0.5\n",
        "\n",
        "grid_scales = [1, 1, 1]\n",
        "obj_scale = 5\n",
        "noobj_scale = 1\n",
        "xywh_scale = 1\n",
        "class_scale = 1\n",
        "\n",
        "# Minimum and maximum input size.\n",
        "min_input_size = 288\n",
        "max_input_size = 448\n",
        "\n",
        "# The pre-defined anchor sizes.\n",
        "anchors = [55, 69, 75, 234, 133, 240, 136, 129, 142, 363, 203, 290, 228, 184, 285, 359, 341, 260]\n",
        "\n",
        "# Ratio between network input's size and network output's size, 32 for YOLOv3.\n",
        "downsample = 32\n",
        "\n",
        "# The path of pre-trained YOLOv3 weights.\n",
        "pretrained_weight_path = proj_folder + 'weights/yolov3.weights'\n",
        "\n",
        "# The path of trained Keras model.\n",
        "keras_model_path = proj_folder + 'weights/trained_model.h5'\n"
      ],
      "metadata": {
        "id": "aAmCh0TkFoPV"
      },
      "id": "aAmCh0TkFoPV",
      "execution_count": 4,
      "outputs": []
    },
    {
      "cell_type": "markdown",
      "source": [
        "Create training and validation set."
      ],
      "metadata": {
        "id": "Da45-2bTTo8M"
      },
      "id": "Da45-2bTTo8M"
    },
    {
      "cell_type": "code",
      "source": [
        "train_inst, valid_inst, labels, max_box_per_image = create_training_instances(\n",
        "    train_annot_folder,\n",
        "    train_img_folder,\n",
        "    train_cache_dir,\n",
        "    valid_annot_folder,\n",
        "    valid_img_folder,\n",
        "    valid_cache_dir,\n",
        "    labels\n",
        ")"
      ],
      "metadata": {
        "id": "GzCMOdVwKih1",
        "colab": {
          "base_uri": "https://localhost:8080/"
        },
        "outputId": "38962295-d182-4db1-8a8c-bfc7a077edeb"
      },
      "id": "GzCMOdVwKih1",
      "execution_count": 5,
      "outputs": [
        {
          "output_type": "stream",
          "name": "stdout",
          "text": [
            "valid_annot_folder not exists. Spliting the trainining set.\n",
            "Seen labels: \t{'kangaroo': 266}\n",
            "\n",
            "Given labels: \t['kangaroo']\n"
          ]
        }
      ]
    },
    {
      "cell_type": "markdown",
      "source": [
        "Create the mini-batch generators."
      ],
      "metadata": {
        "id": "mR6WSM-xT_2L"
      },
      "id": "mR6WSM-xT_2L"
    },
    {
      "cell_type": "code",
      "source": [
        "train_generator = BatchGenerator(\n",
        "    instances=train_inst,\n",
        "    anchors=anchors,\n",
        "    labels=labels,\n",
        "    downsample=downsample,\n",
        "    max_box_per_image=max_box_per_image,\n",
        "    batch_size=batch_size,\n",
        "    min_net_size=min_input_size,\n",
        "    max_net_size=max_input_size,\n",
        "    shuffle=True,\n",
        "    jitter=0.3,\n",
        "    norm=True\n",
        ")\n",
        "\n",
        "valid_generator = BatchGenerator(\n",
        "    instances=valid_inst,\n",
        "    anchors=anchors,\n",
        "    labels=labels,\n",
        "    downsample=downsample,\n",
        "    max_box_per_image=max_box_per_image,\n",
        "    batch_size=batch_size,\n",
        "    min_net_size=min_input_size,\n",
        "    max_net_size=max_input_size,\n",
        "    shuffle=True,\n",
        "    jitter=0.0,\n",
        "    norm=True\n",
        ")\n"
      ],
      "metadata": {
        "id": "h3pCK6bITrtP"
      },
      "id": "h3pCK6bITrtP",
      "execution_count": 6,
      "outputs": []
    },
    {
      "cell_type": "code",
      "source": [
        "# If trained model exists, load the model. Otherwise, create a new model.\n",
        "if os.path.isfile(keras_model_path):\n",
        "    train_model = load_keras_model(keras_model_path)\n",
        "\n",
        "else:\n",
        "    train_model, infer_model = create_yolov3_model(\n",
        "        nb_class=len(labels),\n",
        "        anchors=anchors,\n",
        "        max_box_per_image=max_box_per_image,\n",
        "        max_grid=[max_input_size, max_input_size],\n",
        "        batch_size=batch_size,\n",
        "        warmup_batches=warmup_batches,\n",
        "        ignore_thresh=ignore_thresh,\n",
        "        grid_scales=grid_scales,\n",
        "        obj_scale=obj_scale,\n",
        "        noobj_scale=noobj_scale,\n",
        "        xywh_scale=xywh_scale,\n",
        "        class_scale=class_scale,\n",
        "    )\n",
        "\n",
        "    # Load the pre-trained weights into the training model.\n",
        "    load_pretrained_weight(train_model, pretrained_weight_path, keras_model_path)"
      ],
      "metadata": {
        "colab": {
          "base_uri": "https://localhost:8080/"
        },
        "id": "B_QUXB9xUakP",
        "outputId": "9ce2c2a3-a510-446b-ba09-d3a6b259cd1f"
      },
      "id": "B_QUXB9xUakP",
      "execution_count": 7,
      "outputs": [
        {
          "output_type": "stream",
          "name": "stdout",
          "text": [
            "loading weights of convolution #0\n",
            "loading weights of convolution #1\n",
            "loading weights of convolution #2\n",
            "loading weights of convolution #3\n",
            "no convolution #4\n",
            "loading weights of convolution #5\n",
            "loading weights of convolution #6\n",
            "loading weights of convolution #7\n",
            "no convolution #8\n",
            "loading weights of convolution #9\n",
            "loading weights of convolution #10\n",
            "no convolution #11\n",
            "loading weights of convolution #12\n",
            "loading weights of convolution #13\n",
            "loading weights of convolution #14\n",
            "no convolution #15\n",
            "loading weights of convolution #16\n",
            "loading weights of convolution #17\n",
            "no convolution #18\n",
            "loading weights of convolution #19\n",
            "loading weights of convolution #20\n",
            "no convolution #21\n",
            "loading weights of convolution #22\n",
            "loading weights of convolution #23\n",
            "no convolution #24\n",
            "loading weights of convolution #25\n",
            "loading weights of convolution #26\n",
            "no convolution #27\n",
            "loading weights of convolution #28\n",
            "loading weights of convolution #29\n",
            "no convolution #30\n",
            "loading weights of convolution #31\n",
            "loading weights of convolution #32\n",
            "no convolution #33\n",
            "loading weights of convolution #34\n",
            "loading weights of convolution #35\n",
            "no convolution #36\n",
            "loading weights of convolution #37\n",
            "loading weights of convolution #38\n",
            "loading weights of convolution #39\n",
            "no convolution #40\n",
            "loading weights of convolution #41\n",
            "loading weights of convolution #42\n",
            "no convolution #43\n",
            "loading weights of convolution #44\n",
            "loading weights of convolution #45\n",
            "no convolution #46\n",
            "loading weights of convolution #47\n",
            "loading weights of convolution #48\n",
            "no convolution #49\n",
            "loading weights of convolution #50\n",
            "loading weights of convolution #51\n",
            "no convolution #52\n",
            "loading weights of convolution #53\n",
            "loading weights of convolution #54\n",
            "no convolution #55\n",
            "loading weights of convolution #56\n",
            "loading weights of convolution #57\n",
            "no convolution #58\n",
            "loading weights of convolution #59\n",
            "loading weights of convolution #60\n",
            "no convolution #61\n",
            "loading weights of convolution #62\n",
            "loading weights of convolution #63\n",
            "loading weights of convolution #64\n",
            "no convolution #65\n",
            "loading weights of convolution #66\n",
            "loading weights of convolution #67\n",
            "no convolution #68\n",
            "loading weights of convolution #69\n",
            "loading weights of convolution #70\n",
            "no convolution #71\n",
            "loading weights of convolution #72\n",
            "loading weights of convolution #73\n",
            "no convolution #74\n",
            "loading weights of convolution #75\n",
            "loading weights of convolution #76\n",
            "loading weights of convolution #77\n",
            "loading weights of convolution #78\n",
            "loading weights of convolution #79\n",
            "loading weights of convolution #80\n"
          ]
        },
        {
          "output_type": "stream",
          "name": "stderr",
          "text": [
            "WARNING:tensorflow:Compiled the loaded model, but the compiled metrics have yet to be built. `model.compile_metrics` will be empty until you train or evaluate the model.\n"
          ]
        },
        {
          "output_type": "stream",
          "name": "stdout",
          "text": [
            "loading weights of convolution #81\n",
            "no convolution #82\n",
            "no convolution #83\n",
            "loading weights of convolution #84\n",
            "no convolution #85\n",
            "no convolution #86\n",
            "loading weights of convolution #87\n",
            "loading weights of convolution #88\n",
            "loading weights of convolution #89\n",
            "loading weights of convolution #90\n",
            "loading weights of convolution #91\n",
            "loading weights of convolution #92\n",
            "loading weights of convolution #93\n",
            "no convolution #94\n",
            "no convolution #95\n",
            "loading weights of convolution #96\n",
            "no convolution #97\n",
            "no convolution #98\n",
            "loading weights of convolution #99\n",
            "loading weights of convolution #100\n",
            "loading weights of convolution #101\n",
            "loading weights of convolution #102\n",
            "loading weights of convolution #103\n",
            "loading weights of convolution #104\n",
            "loading weights of convolution #105\n"
          ]
        }
      ]
    },
    {
      "cell_type": "code",
      "source": [
        "# Fit the model.\n",
        "fit_model(train_model, train_generator, valid_generator)"
      ],
      "metadata": {
        "colab": {
          "base_uri": "https://localhost:8080/"
        },
        "id": "kH4jnTcuUlW3",
        "outputId": "1673cf0e-370f-422c-aa42-8ac1d2e571a1"
      },
      "id": "kH4jnTcuUlW3",
      "execution_count": 8,
      "outputs": [
        {
          "output_type": "stream",
          "name": "stderr",
          "text": [
            "/usr/local/lib/python3.9/dist-packages/keras/optimizers/legacy/adam.py:117: UserWarning: The `lr` argument is deprecated, use `learning_rate` instead.\n",
            "  super().__init__(name, **kwargs)\n"
          ]
        },
        {
          "output_type": "stream",
          "name": "stdout",
          "text": [
            "resizing:  352 352\n",
            "Epoch 1/10\n"
          ]
        },
        {
          "output_type": "stream",
          "name": "stderr",
          "text": [
            "WARNING:tensorflow:Gradients do not exist for variables ['UnreadVariable', 'UnreadVariable', 'UnreadVariable'] when minimizing the loss. If you're using `model.compile()`, did you forget to provide a `loss` argument?\n",
            "WARNING:tensorflow:Gradients do not exist for variables ['UnreadVariable', 'UnreadVariable', 'UnreadVariable'] when minimizing the loss. If you're using `model.compile()`, did you forget to provide a `loss` argument?\n"
          ]
        },
        {
          "output_type": "stream",
          "name": "stdout",
          "text": [
            "resizing:  320 320\n",
            "9/9 - 50s - loss: 617.8804 - yolo_layer_loss: 396.9948 - yolo_layer_1_loss: 73.0721 - yolo_layer_2_loss: 147.8135 - 50s/epoch - 6s/step\n",
            "Epoch 2/10\n",
            "resizing:  416 416\n",
            "resizing:  352 352\n",
            "9/9 - 14s - loss: 352.0565 - yolo_layer_loss: 119.1094 - yolo_layer_1_loss: 76.6596 - yolo_layer_2_loss: 156.2875 - 14s/epoch - 2s/step\n",
            "Epoch 3/10\n",
            "resizing:  448 448\n",
            "resizing:  320 320\n",
            "9/9 - 17s - loss: 334.8260 - yolo_layer_loss: 86.2128 - yolo_layer_1_loss: 80.0934 - yolo_layer_2_loss: 168.5199 - 17s/epoch - 2s/step\n",
            "Epoch 4/10\n",
            "resizing:  352 352\n",
            "resizing:  320 320\n",
            "9/9 - 6s - loss: 240.1746 - yolo_layer_loss: 43.6890 - yolo_layer_1_loss: 61.1953 - yolo_layer_2_loss: 135.2902 - 6s/epoch - 657ms/step\n",
            "Epoch 5/10\n",
            "resizing:  352 352\n",
            "resizing:  288 288\n",
            "9/9 - 5s - loss: 210.4313 - yolo_layer_loss: 38.5866 - yolo_layer_1_loss: 50.9351 - yolo_layer_2_loss: 120.9095 - 5s/epoch - 600ms/step\n",
            "Epoch 6/10\n",
            "resizing:  448 448\n",
            "9/9 - 11s - loss: 174.3212 - yolo_layer_loss: 31.9854 - yolo_layer_1_loss: 39.1300 - yolo_layer_2_loss: 103.2057 - 11s/epoch - 1s/step\n",
            "Epoch 7/10\n",
            "resizing:  448 448\n",
            "resizing:  416 416\n",
            "9/9 - 9s - loss: 234.5109 - yolo_layer_loss: 54.4626 - yolo_layer_1_loss: 43.8726 - yolo_layer_2_loss: 136.1758 - 9s/epoch - 981ms/step\n",
            "Epoch 8/10\n",
            "resizing:  320 320\n",
            "resizing:  448 448\n",
            "9/9 - 7s - loss: 171.1830 - yolo_layer_loss: 41.6029 - yolo_layer_1_loss: 28.9870 - yolo_layer_2_loss: 100.5932 - 7s/epoch - 814ms/step\n",
            "Epoch 9/10\n",
            "resizing:  448 448\n",
            "resizing:  384 384\n",
            "9/9 - 10s - loss: 177.0422 - yolo_layer_loss: 50.9128 - yolo_layer_1_loss: 23.7746 - yolo_layer_2_loss: 102.3548 - 10s/epoch - 1s/step\n",
            "Epoch 10/10\n",
            "resizing:  384 384\n",
            "resizing:  288 288\n",
            "9/9 - 15s - loss: 123.6934 - yolo_layer_loss: 32.8750 - yolo_layer_1_loss: 17.7275 - yolo_layer_2_loss: 73.0909 - 15s/epoch - 2s/step\n"
          ]
        }
      ]
    },
    {
      "cell_type": "code",
      "source": [
        "save_keras_model(train_model, keras_model_path)"
      ],
      "metadata": {
        "id": "xiU1_vlhVPia"
      },
      "id": "xiU1_vlhVPia",
      "execution_count": 9,
      "outputs": []
    },
    {
      "cell_type": "code",
      "source": [
        "infer_model = load_keras_model(keras_model_path)"
      ],
      "metadata": {
        "id": "WDOoh8tJVUmp",
        "colab": {
          "base_uri": "https://localhost:8080/",
          "height": 395
        },
        "outputId": "f3820d1e-3065-4e2e-fa1f-7049e0224f0d"
      },
      "id": "WDOoh8tJVUmp",
      "execution_count": 10,
      "outputs": [
        {
          "output_type": "error",
          "ename": "ValueError",
          "evalue": "ignored",
          "traceback": [
            "\u001b[0;31m---------------------------------------------------------------------------\u001b[0m",
            "\u001b[0;31mValueError\u001b[0m                                Traceback (most recent call last)",
            "\u001b[0;32m<ipython-input-10-4dc3b764ebf8>\u001b[0m in \u001b[0;36m<cell line: 1>\u001b[0;34m()\u001b[0m\n\u001b[0;32m----> 1\u001b[0;31m \u001b[0minfer_model\u001b[0m \u001b[0;34m=\u001b[0m \u001b[0mload_keras_model\u001b[0m\u001b[0;34m(\u001b[0m\u001b[0mkeras_model_path\u001b[0m\u001b[0;34m)\u001b[0m\u001b[0;34m\u001b[0m\u001b[0;34m\u001b[0m\u001b[0m\n\u001b[0m",
            "\u001b[0;32m/content/YOLOv3/yolov3/load_weight.py\u001b[0m in \u001b[0;36mload_keras_model\u001b[0;34m(model_dir)\u001b[0m\n\u001b[1;32m     79\u001b[0m \u001b[0;32mdef\u001b[0m \u001b[0mload_keras_model\u001b[0m\u001b[0;34m(\u001b[0m\u001b[0mmodel_dir\u001b[0m\u001b[0;34m)\u001b[0m\u001b[0;34m:\u001b[0m\u001b[0;34m\u001b[0m\u001b[0;34m\u001b[0m\u001b[0m\n\u001b[1;32m     80\u001b[0m     \u001b[0;34m\"\"\" Load trained Keras model \"\"\"\u001b[0m\u001b[0;34m\u001b[0m\u001b[0;34m\u001b[0m\u001b[0m\n\u001b[0;32m---> 81\u001b[0;31m     \u001b[0;32mreturn\u001b[0m \u001b[0mload_model\u001b[0m\u001b[0;34m(\u001b[0m\u001b[0mmodel_dir\u001b[0m\u001b[0;34m)\u001b[0m\u001b[0;34m\u001b[0m\u001b[0;34m\u001b[0m\u001b[0m\n\u001b[0m\u001b[1;32m     82\u001b[0m \u001b[0;34m\u001b[0m\u001b[0m\n\u001b[1;32m     83\u001b[0m \u001b[0;34m\u001b[0m\u001b[0m\n",
            "\u001b[0;32m/usr/local/lib/python3.9/dist-packages/keras/saving/saving_api.py\u001b[0m in \u001b[0;36mload_model\u001b[0;34m(filepath, custom_objects, compile, safe_mode, **kwargs)\u001b[0m\n\u001b[1;32m    210\u001b[0m \u001b[0;34m\u001b[0m\u001b[0m\n\u001b[1;32m    211\u001b[0m     \u001b[0;31m# Legacy case.\u001b[0m\u001b[0;34m\u001b[0m\u001b[0;34m\u001b[0m\u001b[0m\n\u001b[0;32m--> 212\u001b[0;31m     return legacy_sm_saving_lib.load_model(\n\u001b[0m\u001b[1;32m    213\u001b[0m         \u001b[0mfilepath\u001b[0m\u001b[0;34m,\u001b[0m \u001b[0mcustom_objects\u001b[0m\u001b[0;34m=\u001b[0m\u001b[0mcustom_objects\u001b[0m\u001b[0;34m,\u001b[0m \u001b[0mcompile\u001b[0m\u001b[0;34m=\u001b[0m\u001b[0mcompile\u001b[0m\u001b[0;34m,\u001b[0m \u001b[0;34m**\u001b[0m\u001b[0mkwargs\u001b[0m\u001b[0;34m\u001b[0m\u001b[0;34m\u001b[0m\u001b[0m\n\u001b[1;32m    214\u001b[0m     )\n",
            "\u001b[0;32m/usr/local/lib/python3.9/dist-packages/keras/utils/traceback_utils.py\u001b[0m in \u001b[0;36merror_handler\u001b[0;34m(*args, **kwargs)\u001b[0m\n\u001b[1;32m     68\u001b[0m             \u001b[0;31m# To get the full stack trace, call:\u001b[0m\u001b[0;34m\u001b[0m\u001b[0;34m\u001b[0m\u001b[0m\n\u001b[1;32m     69\u001b[0m             \u001b[0;31m# `tf.debugging.disable_traceback_filtering()`\u001b[0m\u001b[0;34m\u001b[0m\u001b[0;34m\u001b[0m\u001b[0m\n\u001b[0;32m---> 70\u001b[0;31m             \u001b[0;32mraise\u001b[0m \u001b[0me\u001b[0m\u001b[0;34m.\u001b[0m\u001b[0mwith_traceback\u001b[0m\u001b[0;34m(\u001b[0m\u001b[0mfiltered_tb\u001b[0m\u001b[0;34m)\u001b[0m \u001b[0;32mfrom\u001b[0m \u001b[0;32mNone\u001b[0m\u001b[0;34m\u001b[0m\u001b[0;34m\u001b[0m\u001b[0m\n\u001b[0m\u001b[1;32m     71\u001b[0m         \u001b[0;32mfinally\u001b[0m\u001b[0;34m:\u001b[0m\u001b[0;34m\u001b[0m\u001b[0;34m\u001b[0m\u001b[0m\n\u001b[1;32m     72\u001b[0m             \u001b[0;32mdel\u001b[0m \u001b[0mfiltered_tb\u001b[0m\u001b[0;34m\u001b[0m\u001b[0;34m\u001b[0m\u001b[0m\n",
            "\u001b[0;32m/usr/local/lib/python3.9/dist-packages/keras/saving/legacy/serialization.py\u001b[0m in \u001b[0;36mclass_and_config_for_serialized_keras_object\u001b[0;34m(config, module_objects, custom_objects, printable_module_name)\u001b[0m\n\u001b[1;32m    366\u001b[0m     )\n\u001b[1;32m    367\u001b[0m     \u001b[0;32mif\u001b[0m \u001b[0mcls\u001b[0m \u001b[0;32mis\u001b[0m \u001b[0;32mNone\u001b[0m\u001b[0;34m:\u001b[0m\u001b[0;34m\u001b[0m\u001b[0;34m\u001b[0m\u001b[0m\n\u001b[0;32m--> 368\u001b[0;31m         raise ValueError(\n\u001b[0m\u001b[1;32m    369\u001b[0m             \u001b[0;34mf\"Unknown {printable_module_name}: '{class_name}'. \"\u001b[0m\u001b[0;34m\u001b[0m\u001b[0;34m\u001b[0m\u001b[0m\n\u001b[1;32m    370\u001b[0m             \u001b[0;34m\"Please ensure you are using a `keras.utils.custom_object_scope` \"\u001b[0m\u001b[0;34m\u001b[0m\u001b[0;34m\u001b[0m\u001b[0m\n",
            "\u001b[0;31mValueError\u001b[0m: Unknown layer: 'YoloLayer'. Please ensure you are using a `keras.utils.custom_object_scope` and that this object is included in the scope. See https://www.tensorflow.org/guide/keras/save_and_serialize#registering_the_custom_object for details."
          ]
        }
      ]
    },
    {
      "cell_type": "code",
      "source": [
        "average_precisions = evaluate(infer_model, valid_generator)"
      ],
      "metadata": {
        "id": "Krli948IVXNr"
      },
      "id": "Krli948IVXNr",
      "execution_count": null,
      "outputs": []
    },
    {
      "cell_type": "code",
      "source": [
        "for label, average_precision in average_precisions.items():\n",
        "    print(labels[label] + ': {:.4f}'.format(average_precision))\n",
        "print('mAP: {:.4f}'.format(sum(average_precisions.values()) / len(average_precisions)))"
      ],
      "metadata": {
        "id": "3ad_up7zVayp"
      },
      "id": "3ad_up7zVayp",
      "execution_count": null,
      "outputs": []
    },
    {
      "cell_type": "code",
      "source": [],
      "metadata": {
        "id": "ZtsT-mRJV08f"
      },
      "id": "ZtsT-mRJV08f",
      "execution_count": null,
      "outputs": []
    }
  ],
  "metadata": {
    "kernelspec": {
      "display_name": "Python 3 (ipykernel)",
      "language": "python",
      "name": "python3"
    },
    "language_info": {
      "codemirror_mode": {
        "name": "ipython",
        "version": 3
      },
      "file_extension": ".py",
      "mimetype": "text/x-python",
      "name": "python",
      "nbconvert_exporter": "python",
      "pygments_lexer": "ipython3",
      "version": "3.9.16"
    },
    "colab": {
      "provenance": [],
      "include_colab_link": true
    },
    "accelerator": "GPU",
    "gpuClass": "standard"
  },
  "nbformat": 4,
  "nbformat_minor": 5
}